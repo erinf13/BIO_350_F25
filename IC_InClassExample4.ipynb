{
 "cells": [
  {
   "cell_type": "code",
   "execution_count": 1,
   "id": "375202c2",
   "metadata": {},
   "outputs": [
    {
     "ename": "NameError",
     "evalue": "name 'install' is not defined",
     "output_type": "error",
     "traceback": [
      "\u001b[31m---------------------------------------------------------------------------\u001b[39m",
      "\u001b[31mNameError\u001b[39m                                 Traceback (most recent call last)",
      "\u001b[36mCell\u001b[39m\u001b[36m \u001b[39m\u001b[32mIn[1]\u001b[39m\u001b[32m, line 1\u001b[39m\n\u001b[32m----> \u001b[39m\u001b[32m1\u001b[39m \u001b[43minstall\u001b[49m.packages(\u001b[33m\"\u001b[39m\u001b[33mdeSolve\u001b[39m\u001b[33m\"\u001b[39m)\n\u001b[32m      2\u001b[39m install.packages(\u001b[33m\"\u001b[39m\u001b[33mggplot2\u001b[39m\u001b[33m\"\u001b[39m)\n\u001b[32m      3\u001b[39m install.packages(\u001b[33m\"\u001b[39m\u001b[33mpatchwork\u001b[39m\u001b[33m\"\u001b[39m)\n",
      "\u001b[31mNameError\u001b[39m: name 'install' is not defined"
     ]
    }
   ],
   "source": [
    "install.packages(\"deSolve\")\n",
    "install.packages(\"ggplot2\")\n",
    "install.packages(\"patchwork\")\n",
    "library(deSolve)\n",
    "library(ggplot2)\n",
    "library(patchwork)"
   ]
  }
 ],
 "metadata": {
  "kernelspec": {
   "display_name": "IC_assignments",
   "language": "python",
   "name": "python3"
  },
  "language_info": {
   "codemirror_mode": {
    "name": "ipython",
    "version": 3
   },
   "file_extension": ".py",
   "mimetype": "text/x-python",
   "name": "python",
   "nbconvert_exporter": "python",
   "pygments_lexer": "ipython3",
   "version": "3.13.5"
  }
 },
 "nbformat": 4,
 "nbformat_minor": 5
}
