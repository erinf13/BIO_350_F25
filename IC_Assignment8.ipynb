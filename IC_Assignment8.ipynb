{
 "cells": [
  {
   "cell_type": "markdown",
   "id": "41543522",
   "metadata": {},
   "source": [
    "### Chapter 6 : Introducing Probability\n",
    "#### via the Handbook of Quantiative Ecology by Justin Kitzes\n",
    "----------------------------------------------------------------------\n",
    "- probability: understanding and quantifying uncertainty in the values of our variables\n",
    "    - taking any value as the fraction of times that it will take a certain value if (die is rolled/action taken) many, many times, approaching an infinite number of times\n",
    "- random variable: a variable that is described by a set of possible values, each with an associated chance of being observed\n",
    "- probability distribution: the list of all possible values that a random variable can take along with the probabilites of observing those values\n",
    "    - sum up to 1"
   ]
  },
  {
   "cell_type": "markdown",
   "id": "c9b2a9c4",
   "metadata": {},
   "source": [
    "### Chapter 7 : A Bird in the Cam I : Single-Variable Probability\n",
    "#### via the Handbook of Quantiative Ecology by Justin Kitzes\n",
    "----------------------------------------------------------------------\n",
    "A local nature museum would like to install a camera to stream real-time video of an eagle nest in the landscape surrounding the museum. The museum is hoping to install the camera at a nest with at least two eggs in it. A published study on nesting success of this eagle species in a similar habitat reported finding 4 nests with one egg, 14 nests with two eggs, and 2 nests with three eggs. What is the probability that the camera team will find two or more eggs in the first nest that it examines? What is the probability that the team will look at three nests in a row and find only one egg in each? What is the average number of eggs per nest of this eagle species?\n",
    "\n",
    "| # nests | # eggs |\n",
    "|---------|--------|\n",
    "|    4    |   1    |\n",
    "|   14    |   2    |\n",
    "|    2    |   3    |\n",
    "\n",
    "Pr(N = 1) = 4/20 = 0.2\n",
    "Pr(N = 2) = 14/20 = 0.7\n",
    "Pr(N = 3) = 2/20 = 0.1\n",
    "\n",
    "Creating a program/function that can answer the following questions:\n",
    "- program that takes input and answers:\n",
    "    - probability we will find 2 eggs in the first nest we check\n",
    "    - probability the team will find 3 nests in a row with 1 egg\n",
    "    - average nr. of eggs per nest\n",
    "- finally, be able to adust the input parameters\n",
    "    - such as how many nests with 1/2/3 eggs\n",
    "    - how many nests in a row with 1 egg\n",
    "\n",
    "| # nests | # eggs |\n",
    "|---------|--------|\n",
    "|    17   |   1    |\n",
    "|   29    |   2    |\n",
    "|    7    |   3    |"
   ]
  },
  {
   "cell_type": "code",
   "execution_count": 21,
   "id": "6aaea8c9",
   "metadata": {},
   "outputs": [],
   "source": [
    "import numpy as np\n",
    "\n",
    "def eagle_nest_analysis(one_egg_nest_counts, two_egg_nest_counts, three_nest_egg_counts, how_many_nests_in_a_row_with_1_egg):\n",
    "   \n",
    "    \"\"\"\n",
    "    Function that calculates and returns the following answers printed:\n",
    "    1. probability we will find 2 eggs in the first nest we check\n",
    "    2. probability the team will find 3 nests in a row with 1 egg\n",
    "    3. average number of eggs per nest\n",
    "\n",
    "    Parameters:\n",
    "    one_egg_nest_counts (int): Number of nests with 1 egg\n",
    "    two_egg_nest_counts (int): Number of nests with 2 eggs\n",
    "    three_nest_egg_counts (int): Number of nests with 3 eggs\n",
    "    how_many_nests_in_a_row_with_1_egg (int): Number of nests in a row with 1 egg\n",
    "\n",
    "    Returns:\n",
    "    None\n",
    "    \"\"\"\n",
    "\n",
    "    # Calculate total numbers of nests\n",
    "    total_nests = one_egg_nest_counts + two_egg_nest_counts + three_nest_egg_counts\n",
    "    # Calculate probability of finding 1, 2, or 3 eggs in a nest\n",
    "    prob_1_egg = one_egg_nest_counts / total_nests\n",
    "    prob_2_egg = two_egg_nest_counts / total_nests\n",
    "    prob_3_egg = three_nest_egg_counts / total_nests\n",
    "    # Calculate probability of finding 2 eggs in the first nest we check\n",
    "    print(\"probability we will find 2 eggs in the first nest we check: \", prob_2_egg)\n",
    "\n",
    "    # Calculate probability of finding 3 nests in a row with 1 egg\n",
    "    prob_nests_in_row = (prob_1_egg ** how_many_nests_in_a_row_with_1_egg) \n",
    "    print(\"probability the team will find 3 nests in a row with 1 egg: \", prob_nests_in_row)\n",
    "\n",
    "    # Calculate the average number of eggs per nest\n",
    "    avg_eggs_per_nest = (one_egg_nest_counts * 1 + two_egg_nest_counts * 2 + three_nest_egg_counts * 3) / total_nests\n",
    "    print(\"average number of eggs per nest: \", avg_eggs_per_nest)\n",
    "    return\n",
    "\n",
    "\n"
   ]
  },
  {
   "cell_type": "code",
   "execution_count": 22,
   "id": "c256afd7",
   "metadata": {},
   "outputs": [
    {
     "name": "stdout",
     "output_type": "stream",
     "text": [
      "probability we will find 2 eggs in the first nest we check:  0.7\n",
      "probability the team will find 3 nests in a row with 1 egg:  0.008000000000000002\n",
      "average number of eggs per nest:  1.9\n"
     ]
    }
   ],
   "source": [
    "#call eagle_nest_analysis with the following parameters\n",
    "eagle_nest_analysis(4, 14, 2, 3)"
   ]
  },
  {
   "cell_type": "code",
   "execution_count": 23,
   "id": "cde306b0",
   "metadata": {},
   "outputs": [
    {
     "name": "stdout",
     "output_type": "stream",
     "text": [
      "probability we will find 2 eggs in the first nest we check:  0.5471698113207547\n",
      "probability the team will find 3 nests in a row with 1 egg:  0.033000396300301583\n",
      "average number of eggs per nest:  1.8113207547169812\n"
     ]
    }
   ],
   "source": [
    "# call eagle_nest_analysis with the following different parameters\n",
    "eagle_nest_analysis(17, 29, 7, 3)"
   ]
  },
  {
   "cell_type": "code",
   "execution_count": null,
   "id": "023f8e07",
   "metadata": {},
   "outputs": [],
   "source": []
  }
 ],
 "metadata": {
  "kernelspec": {
   "display_name": "IC_assignments",
   "language": "python",
   "name": "python3"
  },
  "language_info": {
   "codemirror_mode": {
    "name": "ipython",
    "version": 3
   },
   "file_extension": ".py",
   "mimetype": "text/x-python",
   "name": "python",
   "nbconvert_exporter": "python",
   "pygments_lexer": "ipython3",
   "version": "3.13.5"
  }
 },
 "nbformat": 4,
 "nbformat_minor": 5
}
