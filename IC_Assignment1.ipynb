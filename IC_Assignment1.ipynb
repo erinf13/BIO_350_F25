{
 "cells": [
  {
   "cell_type": "markdown",
   "id": "35163415",
   "metadata": {},
   "source": [
    "Make a definition for a difference equation\n"
   ]
  },
  {
   "cell_type": "code",
   "execution_count": 8,
   "id": "5de5010e",
   "metadata": {},
   "outputs": [],
   "source": [
    "def N_iterative(N_0, p, number_iterations): \n",
    "    N_values = [N_0]\n",
    "    current_N = N_0\n",
    "    for _ in range(number_iterations):\n",
    "        current_N = current_N + p\n",
    "        N_values.append(current_N)\n",
    "    return N_values"
   ]
  },
  {
   "cell_type": "code",
   "execution_count": 9,
   "id": "d4b90796",
   "metadata": {},
   "outputs": [
    {
     "name": "stdout",
     "output_type": "stream",
     "text": [
      "[0, 2, 4, 6, 8, 10, 12, 14, 16, 18, 20]\n"
     ]
    }
   ],
   "source": [
    "#Call N_iterative with example parameters\n",
    "N_iterative(0, 2, 10)\n",
    "# Call N_iterative with N_0 = 0, p=2, and number_iterations = 10\n",
    "result = N_iterative(0, 2, 10)\n",
    "print(result)  # Expected output: [0, 2, 4, 6, 8, 10, 12, 14, 16, 18, 20]\n"
   ]
  }
 ],
 "metadata": {
  "kernelspec": {
   "display_name": "IC_assignments",
   "language": "python",
   "name": "python3"
  },
  "language_info": {
   "codemirror_mode": {
    "name": "ipython",
    "version": 3
   },
   "file_extension": ".py",
   "mimetype": "text/x-python",
   "name": "python",
   "nbconvert_exporter": "python",
   "pygments_lexer": "ipython3",
   "version": "3.13.5"
  }
 },
 "nbformat": 4,
 "nbformat_minor": 5
}
